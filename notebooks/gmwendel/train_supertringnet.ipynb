{
 "cells": [
  {
   "cell_type": "code",
   "execution_count": 1,
   "metadata": {},
   "outputs": [],
   "source": [
    "import os\n",
    "#os.environ[\"CUDA_VISIBLE_DEVICES\"]=\"1\"\n",
    "#os.environ[\"CUDA_VISIBLE_DEVICES\"]=\"1\"\n",
    "#os.environ[\"HDF5_USE_FILE_LOCKING\"] = \"FALSE\"\n",
    "\n",
    "import datetime\n",
    "\n",
    "import numpy as np\n",
    "import matplotlib.pyplot as plt\n",
    "import tensorflow as tf\n",
    "\n",
    "%load_ext autoreload\n",
    "%autoreload 2\n",
    "\n",
    "from freedom.utils.dataset import Data\n",
    "from freedom.utils.callback import Save\n",
    "\n",
    "from freedom.neural_nets.superstringnet import get_superstringnet\n",
    "import matplotlib.pyplot as plt"
   ]
  },
  {
   "cell_type": "code",
   "execution_count": 2,
   "metadata": {},
   "outputs": [
    {
     "name": "stdout",
     "output_type": "stream",
     "text": [
      "[PhysicalDevice(name='/physical_device:GPU:0', device_type='GPU'), PhysicalDevice(name='/physical_device:GPU:1', device_type='GPU'), PhysicalDevice(name='/physical_device:GPU:2', device_type='GPU')]\n"
     ]
    }
   ],
   "source": [
    "print(tf.config.list_physical_devices(device_type=\"GPU\"))\n",
    "data = Data(dirs=['/home/gmw5164/ML/IceCube/120000_i3','/home/gmw5164/ML/IceCube/140000_i3'])"
   ]
  },
  {
   "cell_type": "code",
   "execution_count": 3,
   "metadata": {},
   "outputs": [
    {
     "name": "stdout",
     "output_type": "stream",
     "text": [
      "Model: \"model\"\n",
      "__________________________________________________________________________________________________\n",
      "Layer (type)                    Output Shape         Param #     Connected to                     \n",
      "==================================================================================================\n",
      "input_1 (InputLayer)            [(None, 86)]         0                                            \n",
      "__________________________________________________________________________________________________\n",
      "input_2 (InputLayer)            [(None, 8)]          0                                            \n",
      "__________________________________________________________________________________________________\n",
      "superstringnet_trafo (superstri (None, 93)           0           input_1[0][0]                    \n",
      "__________________________________________________________________________________________________\n",
      "dense (Dense)                   (None, 128)          12032       superstringnet_trafo[0][0]       \n",
      "__________________________________________________________________________________________________\n",
      "dropout (Dropout)               (None, 128)          0           dense[0][0]                      \n",
      "__________________________________________________________________________________________________\n",
      "dense_1 (Dense)                 (None, 256)          33024       dropout[0][0]                    \n",
      "__________________________________________________________________________________________________\n",
      "dropout_1 (Dropout)             (None, 256)          0           dense_1[0][0]                    \n",
      "__________________________________________________________________________________________________\n",
      "dense_2 (Dense)                 (None, 512)          131584      dropout_1[0][0]                  \n",
      "__________________________________________________________________________________________________\n",
      "dropout_2 (Dropout)             (None, 512)          0           dense_2[0][0]                    \n",
      "__________________________________________________________________________________________________\n",
      "dense_3 (Dense)                 (None, 1024)         525312      dropout_2[0][0]                  \n",
      "__________________________________________________________________________________________________\n",
      "dropout_3 (Dropout)             (None, 1024)         0           dense_3[0][0]                    \n",
      "__________________________________________________________________________________________________\n",
      "dense_4 (Dense)                 (None, 512)          524800      dropout_3[0][0]                  \n",
      "__________________________________________________________________________________________________\n",
      "dropout_4 (Dropout)             (None, 512)          0           dense_4[0][0]                    \n",
      "__________________________________________________________________________________________________\n",
      "dense_5 (Dense)                 (None, 256)          131328      dropout_4[0][0]                  \n",
      "__________________________________________________________________________________________________\n",
      "dropout_5 (Dropout)             (None, 256)          0           dense_5[0][0]                    \n",
      "__________________________________________________________________________________________________\n",
      "dense_6 (Dense)                 (None, 128)          32896       dropout_5[0][0]                  \n",
      "__________________________________________________________________________________________________\n",
      "dropout_6 (Dropout)             (None, 128)          0           dense_6[0][0]                    \n",
      "__________________________________________________________________________________________________\n",
      "dense_7 (Dense)                 (None, 64)           8256        dropout_6[0][0]                  \n",
      "__________________________________________________________________________________________________\n",
      "dropout_7 (Dropout)             (None, 64)           0           dense_7[0][0]                    \n",
      "__________________________________________________________________________________________________\n",
      "dense_8 (Dense)                 (None, 32)           2080        dropout_7[0][0]                  \n",
      "__________________________________________________________________________________________________\n",
      "dropout_8 (Dropout)             (None, 32)           0           dense_8[0][0]                    \n",
      "__________________________________________________________________________________________________\n",
      "dense_9 (Dense)                 (None, 1)            33          dropout_8[0][0]                  \n",
      "==================================================================================================\n",
      "Total params: 1,401,345\n",
      "Trainable params: 1,401,345\n",
      "Non-trainable params: 0\n",
      "__________________________________________________________________________________________________\n"
     ]
    }
   ],
   "source": [
    "superstringnet = get_superstringnet(data.labels)\n",
    "superstringnet.summary()"
   ]
  },
  {
   "cell_type": "code",
   "execution_count": 4,
   "metadata": {},
   "outputs": [],
   "source": [
    "optimizer = tf.keras.optimizers.Adam(0.0001)\n",
    "superstringnet.compile(loss='binary_crossentropy', optimizer=optimizer)"
   ]
  },
  {
   "cell_type": "code",
   "execution_count": 5,
   "metadata": {},
   "outputs": [],
   "source": [
    "train_id = 'SuperstringNet_logE_' + datetime.datetime.now().strftime(\"%d_%b_%Y-%Hh%M\")"
   ]
  },
  {
   "cell_type": "code",
   "execution_count": 6,
   "metadata": {},
   "outputs": [],
   "source": [
    "callbacks = []\n",
    "callbacks.append(Save(save_every=2, path_template='../../resources/models/'+train_id+'/epoch_%i', ))\n",
    "callbacks.append(tf.keras.callbacks.TensorBoard(log_dir='../../resources/logs/'+train_id, histogram_freq=1))"
   ]
  },
  {
   "cell_type": "code",
   "execution_count": 7,
   "metadata": {},
   "outputs": [],
   "source": [
    "train_data, test_data = data.get_superstringnet_data(train_batch_size=2**7,\n",
    "                                                test_batch_size=2**7,\n",
    "                                                shuffle_block_size=2**16\n",
    "                                                )"
   ]
  },
  {
   "cell_type": "code",
   "execution_count": 8,
   "metadata": {},
   "outputs": [],
   "source": [
    "d_train_data = train_data.apply(tf.data.experimental.prefetch_to_device(':'.join(tf.config.list_physical_devices(device_type=\"GPU\")[0].name.split(':')[1:])))"
   ]
  },
  {
   "cell_type": "code",
   "execution_count": 9,
   "metadata": {
    "scrolled": false
   },
   "outputs": [
    {
     "name": "stdout",
     "output_type": "stream",
     "text": [
      "Epoch 1/40\n",
      "42877/42877 - 376s - loss: 0.2527 - val_loss: 0.1761\n",
      "Epoch 2/40\n",
      "42877/42877 - 345s - loss: 0.1610 - val_loss: 0.1422\n",
      "Epoch 3/40\n",
      "42877/42877 - 349s - loss: 0.1432 - val_loss: 0.1363\n",
      "Epoch 4/40\n",
      "42877/42877 - 348s - loss: 0.1331 - val_loss: 0.1324\n",
      "Epoch 5/40\n",
      "42877/42877 - 349s - loss: 0.1264 - val_loss: 0.1215\n",
      "Epoch 6/40\n",
      "42877/42877 - 349s - loss: 0.1215 - val_loss: 0.1210\n",
      "Epoch 7/40\n",
      "42877/42877 - 348s - loss: 0.1177 - val_loss: 0.1130\n",
      "Epoch 8/40\n",
      "42877/42877 - 349s - loss: 0.1142 - val_loss: 0.1123\n",
      "Epoch 9/40\n",
      "42877/42877 - 351s - loss: 0.1117 - val_loss: 0.1116\n",
      "Epoch 10/40\n",
      "42877/42877 - 346s - loss: 0.1111 - val_loss: 0.1107\n",
      "Epoch 11/40\n",
      "42877/42877 - 349s - loss: 0.1083 - val_loss: 0.1078\n",
      "Epoch 12/40\n",
      "42877/42877 - 347s - loss: 0.1071 - val_loss: 0.1077\n",
      "Epoch 13/40\n",
      "42877/42877 - 349s - loss: 0.1062 - val_loss: 0.1065\n",
      "Epoch 14/40\n",
      "42877/42877 - 348s - loss: 0.1060 - val_loss: 0.1055\n",
      "Epoch 15/40\n",
      "42877/42877 - 347s - loss: 0.1038 - val_loss: 0.1026\n",
      "Epoch 16/40\n",
      "42877/42877 - 350s - loss: 0.1040 - val_loss: 0.1036\n",
      "Epoch 17/40\n",
      "42877/42877 - 348s - loss: 0.1039 - val_loss: 0.1075\n",
      "Epoch 18/40\n",
      "42877/42877 - 346s - loss: 0.1031 - val_loss: 0.1041\n",
      "Epoch 19/40\n",
      "42877/42877 - 348s - loss: 0.1026 - val_loss: 0.1021\n",
      "Epoch 20/40\n",
      "42877/42877 - 351s - loss: 0.1011 - val_loss: 0.1024\n",
      "Epoch 21/40\n",
      "42877/42877 - 350s - loss: 0.1016 - val_loss: 0.1063\n",
      "Epoch 22/40\n",
      "42877/42877 - 354s - loss: 0.1008 - val_loss: 0.1019\n",
      "Epoch 23/40\n",
      "42877/42877 - 350s - loss: 0.1003 - val_loss: 0.1023\n",
      "Epoch 24/40\n",
      "42877/42877 - 349s - loss: 0.1045 - val_loss: 0.0990\n",
      "Epoch 25/40\n",
      "42877/42877 - 353s - loss: 0.1030 - val_loss: 0.1072\n",
      "Epoch 26/40\n",
      "42877/42877 - 354s - loss: 0.1007 - val_loss: 0.1022\n",
      "Epoch 27/40\n",
      "42877/42877 - 354s - loss: 0.0997 - val_loss: 0.0993\n",
      "Epoch 28/40\n",
      "42877/42877 - 358s - loss: 0.0991 - val_loss: 0.1030\n",
      "Epoch 29/40\n",
      "42877/42877 - 351s - loss: 0.0998 - val_loss: 0.0998\n",
      "Epoch 30/40\n",
      "42877/42877 - 357s - loss: 0.1222 - val_loss: 0.0972\n",
      "Epoch 31/40\n",
      "42877/42877 - 356s - loss: 0.1002 - val_loss: 0.1041\n",
      "Epoch 32/40\n",
      "42877/42877 - 350s - loss: 0.1037 - val_loss: 0.1031\n",
      "Epoch 33/40\n",
      "42877/42877 - 349s - loss: 0.3018 - val_loss: 0.1137\n",
      "Epoch 34/40\n",
      "42877/42877 - 351s - loss: 0.1000 - val_loss: 0.0955\n",
      "Epoch 35/40\n",
      "42877/42877 - 350s - loss: 0.0982 - val_loss: 0.0975\n",
      "Epoch 36/40\n",
      "42877/42877 - 352s - loss: 0.0979 - val_loss: 0.0976\n",
      "Epoch 37/40\n",
      "42877/42877 - 350s - loss: 0.0979 - val_loss: 0.0989\n",
      "Epoch 38/40\n",
      "42877/42877 - 346s - loss: 0.1041 - val_loss: 0.1006\n",
      "Epoch 39/40\n",
      "42877/42877 - 346s - loss: 0.1131 - val_loss: 0.0993\n",
      "Epoch 40/40\n",
      "42877/42877 - 350s - loss: 0.1061 - val_loss: 0.1006\n"
     ]
    }
   ],
   "source": [
    "hist = superstringnet.fit(d_train_data, epochs=40, verbose=2, callbacks=callbacks, validation_data=test_data,\n",
    "                     initial_epoch=len(callbacks[0].hist['train_losses']))"
   ]
  },
  {
   "cell_type": "code",
   "execution_count": null,
   "metadata": {},
   "outputs": [],
   "source": [
    "# summarize history for loss\n",
    "plt.plot(hist.history['loss'])\n",
    "plt.plot(hist.history['val_loss'])\n",
    "plt.title('model loss')\n",
    "plt.ylabel('loss')\n",
    "plt.xlabel('epoch')\n",
    "plt.legend(['train', 'test'], loc='upper left')\n",
    "plt.show()"
   ]
  },
  {
   "cell_type": "code",
   "execution_count": 11,
   "metadata": {},
   "outputs": [],
   "source": [
    "superstringnet.save(\"superstring_2**7_40epoch.h5\")"
   ]
  },
  {
   "cell_type": "code",
   "execution_count": 13,
   "metadata": {},
   "outputs": [],
   "source": [
    "from freedom.utils.i3cols_dataloader import load_events, load_strings, load_charges, load_superstrings\n",
    "import numpy as np\n",
    "\n",
    "superstrings,superparams,superlabels=load_superstrings(dir='/home/gmw5164/ML/IceCube/120000_i3')"
   ]
  },
  {
   "cell_type": "code",
   "execution_count": 49,
   "metadata": {},
   "outputs": [
    {
     "data": {
      "text/plain": [
       "array([[9.9285686e-01],\n",
       "       [9.7978003e-02],\n",
       "       [4.8862997e-02],\n",
       "       [1.5634686e-03],\n",
       "       [6.0579845e-05],\n",
       "       [1.1877462e-02],\n",
       "       [2.5142401e-03],\n",
       "       [2.1193035e-02],\n",
       "       [2.1239139e-02],\n",
       "       [9.7723957e-04],\n",
       "       [1.2169081e-02],\n",
       "       [3.2349047e-04],\n",
       "       [1.4602051e-02],\n",
       "       [1.6720654e-01],\n",
       "       [4.5079909e-02],\n",
       "       [7.6245412e-02],\n",
       "       [7.5068228e-02],\n",
       "       [1.8358882e-01],\n",
       "       [4.1057404e-02],\n",
       "       [2.4014470e-01],\n",
       "       [6.6784106e-02],\n",
       "       [4.2832694e-03],\n",
       "       [2.5566688e-02],\n",
       "       [3.4341803e-03],\n",
       "       [8.4515698e-02],\n",
       "       [5.3216065e-03],\n",
       "       [1.1727849e-02],\n",
       "       [2.2040254e-03],\n",
       "       [1.0659315e-03],\n",
       "       [1.1600315e-02],\n",
       "       [2.4717333e-02],\n",
       "       [3.7335928e-03],\n",
       "       [2.6890823e-01],\n",
       "       [2.8640044e-01],\n",
       "       [6.2717759e-04],\n",
       "       [2.7154528e-03],\n",
       "       [2.2981802e-02],\n",
       "       [7.6370343e-04],\n",
       "       [3.6845563e-04],\n",
       "       [1.5229385e-01],\n",
       "       [3.2500331e-03],\n",
       "       [2.9694824e-02],\n",
       "       [1.0129867e-02],\n",
       "       [2.5928888e-02],\n",
       "       [1.4069246e-01],\n",
       "       [8.1291674e-03],\n",
       "       [6.6928901e-02],\n",
       "       [4.8882648e-02],\n",
       "       [4.0031383e-03],\n",
       "       [1.9192934e-03]], dtype=float32)"
      ]
     },
     "execution_count": 49,
     "metadata": {},
     "output_type": "execute_result"
    }
   ],
   "source": [
    "event=5\n",
    "n_param=50\n",
    "superstringnet.predict([np.tile(superstrings[event],(n_param,1)),superparams[event:event+n_param]],batch_size=1)"
   ]
  },
  {
   "cell_type": "code",
   "execution_count": 39,
   "metadata": {},
   "outputs": [
    {
     "name": "stdout",
     "output_type": "stream",
     "text": [
      "[[0.    0.    0.    0.    0.    0.    0.    0.    0.    0.    0.    0.\n",
      "  0.    0.    0.    0.    0.    0.    0.    0.    0.    0.    0.    0.\n",
      "  0.    3.125 0.    0.    0.    0.    0.    0.    0.    0.    0.    0.\n",
      "  0.    0.    0.    0.    0.    0.    0.    0.    0.    0.    0.    0.\n",
      "  0.    0.    0.    0.    0.    0.    0.    0.    0.    0.    0.    0.\n",
      "  0.    0.    0.    0.    0.    0.    0.    0.    0.    0.    0.    0.\n",
      "  0.    0.    0.    0.    0.    0.    1.8   0.    0.    0.    0.625 0.\n",
      "  0.    0.   ]\n",
      " [0.    0.    0.    0.    0.    0.    0.    0.    0.    0.    0.    0.\n",
      "  0.    0.    0.    0.    0.    0.    0.    0.    0.    0.    0.    0.\n",
      "  0.    0.    0.    0.    0.    0.    0.    0.    0.    0.    0.    0.\n",
      "  0.    0.    0.    0.    0.    0.    0.    0.    0.    0.    0.    0.\n",
      "  0.    0.    0.    0.    0.    0.    0.    0.    0.    0.    0.    0.\n",
      "  0.    0.    0.    0.    0.    0.    0.    0.    0.    0.    0.    0.\n",
      "  0.    0.    0.    0.    0.    0.    0.    0.    0.    0.    0.875 0.\n",
      "  0.    3.7  ]]\n",
      "[[0.    0.    0.    0.    0.    0.    0.    0.    0.    0.    0.    0.\n",
      "  0.    0.    0.    0.    0.    0.    0.    0.    0.    0.    0.    0.\n",
      "  0.    3.125 0.    0.    0.    0.    0.    0.    0.    0.    0.    0.\n",
      "  0.    0.    0.    0.    0.    0.    0.    0.    0.    0.    0.    0.\n",
      "  0.    0.    0.    0.    0.    0.    0.    0.    0.    0.    0.    0.\n",
      "  0.    0.    0.    0.    0.    0.    0.    0.    0.    0.    0.    0.\n",
      "  0.    0.    0.    0.    0.    0.    1.8   0.    0.    0.    0.625 0.\n",
      "  0.    0.   ]\n",
      " [0.    0.    0.    0.    0.    0.    0.    0.    0.    0.    0.    0.\n",
      "  0.    0.    0.    0.    0.    0.    0.    0.    0.    0.    0.    0.\n",
      "  0.    0.    0.    0.    0.    0.    0.    0.    0.    0.    0.    0.\n",
      "  0.    0.    0.    0.    0.    0.    0.    0.    0.    0.    0.    0.\n",
      "  0.    0.    0.    0.    0.    0.    0.    0.    0.    0.    0.    0.\n",
      "  0.    0.    0.    0.    0.    0.    0.    0.    0.    0.    0.    0.\n",
      "  0.    0.    0.    0.    0.    0.    0.    0.    0.    0.    0.875 0.\n",
      "  0.    3.7  ]]\n"
     ]
    }
   ],
   "source": [
    "print(np.reshape(superstrings[event:event+2,:],(2,86)))\n",
    "print(superstrings[event:event+2,:])"
   ]
  },
  {
   "cell_type": "code",
   "execution_count": null,
   "metadata": {},
   "outputs": [],
   "source": []
  }
 ],
 "metadata": {
  "kernelspec": {
   "display_name": "Python 3",
   "language": "python",
   "name": "python3"
  },
  "language_info": {
   "codemirror_mode": {
    "name": "ipython",
    "version": 3
   },
   "file_extension": ".py",
   "mimetype": "text/x-python",
   "name": "python",
   "nbconvert_exporter": "python",
   "pygments_lexer": "ipython3",
   "version": "3.8.3"
  }
 },
 "nbformat": 4,
 "nbformat_minor": 4
}
